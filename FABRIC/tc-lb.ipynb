{
 "cells": [
  {
   "cell_type": "markdown",
   "metadata": {},
   "source": [
    "# Create a Local Ethernet (Layer 2) Network: Automatic Configuration\n",
    "\n",
    "This notebook shows how to create an isolated local Ethernet and connect compute nodes to it and use FABlib's automatic configuration functionality.\n"
   ]
  },
  {
   "cell_type": "markdown",
   "metadata": {},
   "source": [
    "## Import the FABlib Library\n"
   ]
  },
  {
   "cell_type": "code",
   "execution_count": null,
   "metadata": {},
   "outputs": [],
   "source": [
    "from ipaddress import ip_address, IPv4Address, IPv6Address, IPv4Network, IPv6Network\n",
    "import ipaddress\n",
    "\n",
    "from fabrictestbed_extensions.fablib.fablib import FablibManager as fablib_manager\n",
    "\n",
    "fablib = fablib_manager()\n",
    "                     \n",
    "fablib.show_config();"
   ]
  },
  {
   "cell_type": "code",
   "execution_count": null,
   "metadata": {},
   "outputs": [],
   "source": [
    "slice_name = 'MySlice'\n",
    "site = fablib.get_random_site()\n",
    "print(f\"Site: {site}\")\n",
    "\n",
    "node1_name = 'Node1'\n",
    "vip_node_name = 'Node_VIP'\n",
    "node2_name = 'Node2'\n",
    "\n",
    "network_name='net1'"
   ]
  },
  {
   "cell_type": "code",
   "execution_count": null,
   "metadata": {
    "tags": []
   },
   "outputs": [],
   "source": [
    "#Create Slice\n",
    "slice = fablib.new_slice(name=slice_name)\n",
    "\n",
    "# Network\n",
    "net1 = slice.add_l2network(name=network_name, subnet=IPv4Network(\"192.168.1.0/24\"))\n",
    "\n",
    "# Node1\n",
    "node1 = slice.add_node(name=node1_name, site=site, image=\"default_ubuntu_24\")\n",
    "iface1 = node1.add_component(model='NIC_Basic', name='nic1').get_interfaces()[0]\n",
    "iface1.set_mode('auto')\n",
    "net1.add_interface(iface1)\n",
    "\n",
    "# Node1\n",
    "vip_node = slice.add_node(name=vip_node_name, site=site, image=\"default_ubuntu_24\")\n",
    "vip_iface = vip_node.add_component(model='NIC_Basic', name='nic1').get_interfaces()[0]\n",
    "vip_iface.set_mode('auto')\n",
    "net1.add_interface(vip_iface)\n",
    "\n",
    "# Node2\n",
    "node2 = slice.add_node(name=node2_name, site=site, image=\"default_ubuntu_24\")\n",
    "iface2 = node2.add_component(model='NIC_Basic', name='nic1').get_interfaces()[0]\n",
    "iface2.set_mode('auto')\n",
    "net1.add_interface(iface2)\n",
    "\n",
    "#Submit Slice Request\n",
    "slice.submit();"
   ]
  },
  {
   "cell_type": "markdown",
   "metadata": {},
   "source": [
    "## Delete the Slice\n",
    "\n",
    "Please delete your slice when you are done with your experiment."
   ]
  },
  {
   "cell_type": "code",
   "execution_count": null,
   "metadata": {},
   "outputs": [],
   "source": [
    "slice.delete()"
   ]
  }
 ],
 "metadata": {
  "kernelspec": {
   "display_name": "Python 3 (ipykernel)",
   "language": "python",
   "name": "python3"
  },
  "language_info": {
   "codemirror_mode": {
    "name": "ipython",
    "version": 3
   },
   "file_extension": ".py",
   "mimetype": "text/x-python",
   "name": "python",
   "nbconvert_exporter": "python",
   "pygments_lexer": "ipython3",
   "version": "3.11.9"
  }
 },
 "nbformat": 4,
 "nbformat_minor": 4
}
